{
 "cells": [
  {
   "cell_type": "markdown",
   "id": "d9d036c6",
   "metadata": {},
   "source": [
    "# Hypothesis testing problems"
   ]
  },
  {
   "cell_type": "markdown",
   "id": "d157c4db",
   "metadata": {},
   "source": [
    "## Exercise 1\n",
    "\n",
    "You are a nutritionist researching two different types of diets to see if there is a significant difference in weight loss after one month. You choose two random groups of people; one group follows the first diet, and the other follows the second. At the end of the month, you record the weight loss (in kg) for each person:\n",
    "\n",
    "| Diet 1 | Diet 2 |\n",
    "|:-------|:-------|\n",
    "| 2.0 | 3.0 |\n",
    "| 2.5 | 3.2 |\n",
    "| 3.0 | 3.1 |\n",
    "| 2.8 | 2.9 |\n",
    "| 2.3 | 2.8 |\n",
    "| 2.7 | 3.0 |\n",
    "| 2.5 | 3.2 |\n",
    "\n",
    "With these data, it seeks to answer the following question: Is there a significant difference in average weight loss between people who followed the first diet and those who followed the second diet?\n",
    "\n",
    "To draw conclusions, follow the points below:\n",
    "\n",
    "- State the hypothesis: null and alternative hypothesis.\n",
    "- Perform the test to test the hypothesis. You can use a Student's t-test.\n",
    "- Analyze the conclusions."
   ]
  },
  {
   "cell_type": "code",
   "execution_count": null,
   "id": "8e0f3cf0",
   "metadata": {},
   "outputs": [
    {
     "name": "stdout",
     "output_type": "stream",
     "text": [
      "t-statistic:-3.538\n",
      "p-vale: 0.004\n",
      "La hipotesis es rechazada, por existir diferencias significativas\n"
     ]
    }
   ],
   "source": [
    "# TODO\n",
    "import numpy as np\n",
    "from scipy.stats import ttest_ind\n",
    "#Planteamiento de hipotesis:\n",
    "'''\n",
    "H0= No hay diferencias importantes entre la perdida de peso promedio entre las personas que siguieron la dieta 1 y 2. \n",
    "H1= Existe una diferencia importante en la perdida dle peso promedio entre el grupo de la dieta 1 y 2.\n",
    "'''\n",
    "\n",
    "group_sample_1= np.array([2.0,2.5,3.0,2.8,2.3,2.7,2.5])\n",
    "group_sample_2=[3.0,3.2,3.1,2.9,2.8,3.0,3.2]\n",
    "\n",
    "t_stat,p_value=ttest_ind(group_sample_1,group_sample_2)\n",
    "print(f't-statistic:{t_stat: .3f}')\n",
    "print(f'p-vale:{p_value: .3f}')\n",
    "\n",
    "alpha=0.05\n",
    "\n",
    "if p_value<alpha:\n",
    "    print(\"La hipotesis es rechazada, por existir diferencias significativas\")\n",
    "else:\n",
    "    print(\"No se puede rechazar la hipotesis, por NO EXISTIR diferencias significativas\")\n",
    "\n",
    "\n"
   ]
  },
  {
   "cell_type": "markdown",
   "id": "f432e18e",
   "metadata": {},
   "source": [
    "## ANOVA\n",
    "\n",
    "**ANOVA** (*Analysis of Variance*) is a statistical technique used to compare the measures of two or more groups. The idea behind ANOVA is to decompose the total variability in the data into two components: between-group variability and within-group variability:\n",
    "\n",
    "- **Between-group variability**: This variability refers to the differences between the group means. If this variability is considerably larger than the within-group variability, it could be an indication that at least one of the group means is different.\n",
    "- **Within-group variability**: This variability refers to the dispersion of the data within each group. If all groups have similar variability, then any noticeable difference in group means could be considered significant.\n",
    "\n",
    "Hypotheses in ANOVA typically include:\n",
    "\n",
    "- **Null hypothesis** ($H₀$): The means of all groups are equal.\n",
    "- **Alternative hypothesis** ($H₁$): At least one of the group means is different.\n",
    "\n",
    "If the ANOVA test result is significant (e.g., a p-value less than a threshold such as 0.05), this suggests that at least one group mean is different."
   ]
  },
  {
   "cell_type": "markdown",
   "id": "fc5f3721",
   "metadata": {},
   "source": [
    "## Exercise 2\n",
    "\n",
    "A farmer decides to test three different types of fertilizers to determine if one is superior in terms of corn production. The farmer plants corn on 15 identical plots and uses all three fertilizers (5 plots for each type). At the end of the season, he measures the corn yield (in kg) of each plot, with the following result:\n",
    "\n",
    "| Fertilizer 1 | Fertilizer 2 | Fertilizer 3 |\n",
    "|:-------------|:-------------|:-------------|\n",
    "| 20 | 22 | 24 |\n",
    "| 21 | 21 | 23 |\n",
    "| 20 | 23 | 22 |\n",
    "| 19 | 22 | 23 |\n",
    "| 20 | 21 | 24 |\n",
    "\n",
    "With this data, he seeks to answer the following question: Is there a significant difference in average corn yield between the three types of fertilizers?\n",
    "\n",
    "To help you, follow the points below:\n",
    "\n",
    "- State the hypothesis: null and alternative hypothesis.\n",
    "- Perform the ANOVA test.\n",
    "- Analyze the conclusions.\n",
    "- If one fertilizer is better than another, how can we know it?"
   ]
  },
  {
   "cell_type": "code",
   "execution_count": null,
   "id": "eecad0ca",
   "metadata": {},
   "outputs": [
    {
     "name": "stdout",
     "output_type": "stream",
     "text": [
      "F-statistic: 20.316\n",
      "p_value:0.0001404782\n",
      "Se rechaza H0: Almenos una dieta es diferente\n"
     ]
    }
   ],
   "source": [
    "# TODO\n",
    "import numpy as np\n",
    "from scipy.stats import f_oneway\n",
    "'''\n",
    "H0=Ninguno de los fertilizantes muestra datos significativos de superioridad en terminos de mejora en la produccion de maiz.\n",
    "H1=Uno o mas de uno de los fertilizantes muestra datos significativos de superioridad en terminos de mejora en la produccion de maiz.\n",
    "'''\n",
    "Fertilizante_1=np.array([20,21,20,19,20])\n",
    "Fertilizante_2=np.array([22,21,23,22,21])\n",
    "Fertilizante_3=np.array([24,23,22,23,24])\n",
    "\n",
    "f_stat, p_value=f_oneway(Fertilizante_1,Fertilizante_2,Fertilizante_3)\n",
    "\n",
    "print(f'F-statistic: {f_stat:.3f}')\n",
    "print(f'p_value:{p_value:.10f}')\n",
    "\n",
    "\n",
    "alpha= 0.05\n",
    "if p_value<alpha:\n",
    "    print(\"Se rechaza H0: Almenos uno de los fertilizantes posee un rendimiento significativametne diferente\")\n",
    "else:\n",
    "    print(\"No se debe rechazar H0= No hay evidencia de diferencias significativas entre los fertilizantes usados\")\n",
    "\n",
    "\n",
    "\n",
    "\n"
   ]
  },
  {
   "cell_type": "code",
   "execution_count": null,
   "id": "364f9f3f",
   "metadata": {},
   "outputs": [
    {
     "name": "stdout",
     "output_type": "stream",
     "text": [
      "       Multiple Comparison of Means - Tukey HSD, FWER=0.05        \n",
      "==================================================================\n",
      "    group1         group2     meandiff p-adj  lower  upper  reject\n",
      "------------------------------------------------------------------\n",
      "Fertilizante 1 Fertilizante 2      1.8 0.0099 0.4572 3.1428   True\n",
      "Fertilizante 1 Fertilizante 3      3.2 0.0001 1.8572 4.5428   True\n",
      "Fertilizante 2 Fertilizante 3      1.4 0.0409 0.0572 2.7428   True\n",
      "------------------------------------------------------------------\n"
     ]
    }
   ],
   "source": [
    "#Identificando el mejor fertilizante:\n",
    "\n",
    "from statsmodels.stats.multicomp import pairwise_tukeyhsd\n",
    "\n",
    "#ahora unimos las matrices:\n",
    "\n",
    "datos= np.concatenate([Fertilizante_1,Fertilizante_2,Fertilizante_3])\n",
    "grupos = ['Fertilizante 1']*5 + ['Fertilizante 2']*5 + ['Fertilizante 3']*5\n",
    "tukey = pairwise_tukeyhsd(datos, grupos, alpha=0.05)\n",
    "print(tukey)"
   ]
  },
  {
   "cell_type": "markdown",
   "id": "35fb053b",
   "metadata": {},
   "source": [
    "# Conclusion el Fertilizante 3 es el que brinda un mejor rendimiento segun los resultados de los datos mostrado en la tabla anterior.\n"
   ]
  }
 ],
 "metadata": {
  "kernelspec": {
   "display_name": "Python 3",
   "language": "python",
   "name": "python3"
  },
  "language_info": {
   "codemirror_mode": {
    "name": "ipython",
    "version": 3
   },
   "file_extension": ".py",
   "mimetype": "text/x-python",
   "name": "python",
   "nbconvert_exporter": "python",
   "pygments_lexer": "ipython3",
   "version": "3.11.4"
  }
 },
 "nbformat": 4,
 "nbformat_minor": 5
}
