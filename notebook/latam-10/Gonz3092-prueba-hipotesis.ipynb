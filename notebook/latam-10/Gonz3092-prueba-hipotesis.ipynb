{
 "cells": [
  {
   "cell_type": "markdown",
   "id": "d9d036c6",
   "metadata": {},
   "source": [
    "# Problemas de prueba de hipótesis"
   ]
  },
  {
   "cell_type": "markdown",
   "id": "d157c4db",
   "metadata": {},
   "source": [
    "## Ejercicio 1\n",
    "\n",
    "Usted es un nutricionista que investiga dos tipos diferentes de dietas para ver si existe una diferencia significativa en la pérdida de peso después de un mes. Eliges dos grupos aleatorios de personas; un grupo sigue la primera dieta y el otro sigue la segunda. Al final del mes, se registra la pérdida de peso (en kg) de cada persona:\n",
    "\n",
    "| Diet 1 | Diet 2 |\n",
    "|:-------|:-------|\n",
    "| 2.0 | 3.0 |\n",
    "| 2.5 | 3.2 |\n",
    "| 3.0 | 3.1 |\n",
    "| 2.8 | 2.9 |\n",
    "| 2.3 | 2.8 |\n",
    "| 2.7 | 3.0 |\n",
    "| 2.5 | 3.2 |\n",
    "\n",
    "Con estos datos se busca responder a la siguiente pregunta: ¿Existe una diferencia significativa en la pérdida de peso promedio entre las personas que siguieron la primera dieta y las que siguieron la segunda dieta?\n",
    "\n",
    "Para sacar conclusiones, siga los siguientes puntos:\n",
    "\n",
    "-Enunciar la hipótesis: hipótesis nula y alternativa.\n",
    "-Realizar la prueba para comprobar la hipótesis. Puede utilizar la prueba t de Student.\n",
    "-Analizar las conclusiones."
   ]
  },
  {
   "cell_type": "code",
   "execution_count": 40,
   "id": "9cff77cf",
   "metadata": {},
   "outputs": [
    {
     "name": "stdout",
     "output_type": "stream",
     "text": [
      "t-value: -3.538\n",
      "p-value: 0.007\n"
     ]
    }
   ],
   "source": [
    "import scipy.stats as stats\n",
    "\n",
    "#H0 = No hay diferencia significativa en la pérdida de peso promedio entre ambas dietas\n",
    "#H1 = Existe una diferencia significativa en la pérdida de peso promedio entre ambas dietas\n",
    "\n",
    "# Datos\n",
    "dieta_1 = [2.0, 2.5, 3.0, 2.8, 2.3, 2.7, 2.5]\n",
    "dieta_2 = [3.0, 3.2, 3.1, 2.9, 2.8, 3.0, 3.2]\n",
    "\n",
    "# Prueba t para dos muestras independientes\n",
    "t_stat, p_value = stats.ttest_ind(dieta_1, dieta_2,equal_var=False)\n",
    "\n",
    "print(f\"t-value: {t_value:.3f}\")\n",
    "print(f\"p-value: {p_value:.3f}\")\n"
   ]
  },
  {
   "cell_type": "markdown",
   "id": "4cdeb84f",
   "metadata": {},
   "source": [
    "Obtenemos los siguientes resultados:\n",
    "\n",
    "Estadístico t = -3.54\n",
    "\n",
    "p-valor = 0.0071\n",
    "\n",
    "Tomamos una significancia común de \n",
    "𝛼=0.05\n",
    "\n",
    "Dado que el p-valor (0.0071) es menor que 0.05, rechazamos la hipótesis nula 𝐻0.\n",
    "\n",
    "Conclusión:\n",
    "Existe una diferencia estadísticamente significativa en la pérdida de peso promedio entre las personas que siguieron la Dieta 1 y la Dieta 2. Es decir, las dietas no tienen el mismo efecto en la pérdida de peso."
   ]
  },
  {
   "cell_type": "markdown",
   "id": "f432e18e",
   "metadata": {},
   "source": [
    "## ANOVA\n",
    "\n",
    "**ANOVA** (*Analysis of Variance - Análisis de variación*) Es una técnica estadística utilizada para comparar las medidas de dos o más grupos. La idea detrás de ANOVA es descomponer la variabilidad total de los datos en dos componentes: variabilidad entre grupos y variabilidad dentro de los grupos:\n",
    "\n",
    "- **Variabilidad entre grupos**: Esta variabilidad se refiere a las diferencias entre las medias del grupo. Si esta variabilidad es considerablemente mayor que la variabilidad dentro del grupo, podría ser una indicación de que al menos una de las medias del grupo es diferente.\n",
    "- **Variabilidad dentro del grupo**: Esta variabilidad se refiere a la dispersión de los datos dentro de cada grupo. Si todos los grupos tienen una variabilidad similar, entonces cualquier diferencia notable en las medias de los grupos podría considerarse significativa.\n",
    "\n",
    "Las hipótesis en ANOVA suelen incluir:\n",
    "\n",
    "- **Hipótesis nula** ($H₀$): Las medias de todos los grupos son iguales.\n",
    "- **Hipótesis alternativa** ($H₁$): Al menos una de las medias del grupo es diferente.\n",
    "\n",
    "Si el resultado de la prueba ANOVA es significativo (por ejemplo, un valor p inferior a un umbral como 0,05), esto sugiere que al menos la media de un grupo es diferente."
   ]
  },
  {
   "cell_type": "markdown",
   "id": "fc5f3721",
   "metadata": {},
   "source": [
    "## Ejercicio 2\n",
    "\n",
    "Un agricultor decide probar tres tipos diferentes de fertilizantes para determinar si alguno es superior en términos de producción de maíz. El agricultor planta maíz en 15 parcelas idénticas y utiliza los tres fertilizantes (5 parcelas para cada tipo). Al final de la temporada mide el rendimiento de maíz (en kg) de cada parcela, con el siguiente resultado:\n",
    "\n",
    "| Fertilizante 1 | Fertilizante 2 | Fertilizante 3 |\n",
    "|:-------------|:-------------|:-------------|\n",
    "| 20 | 22 | 24 |\n",
    "| 21 | 21 | 23 |\n",
    "| 20 | 23 | 22 |\n",
    "| 19 | 22 | 23 |\n",
    "| 20 | 21 | 24 |\n",
    "\n",
    "Con estos datos busca responder la siguiente pregunta: ¿Existe una diferencia significativa en el rendimiento promedio del maíz entre los tres tipos de fertilizantes?\n",
    "\n",
    "Para ayudarte, sigue los siguientes puntos:\n",
    "\n",
    "-Enunciar la hipótesis: hipótesis nula y alternativa.\n",
    "-Realizar la prueba ANOVA.\n",
    "-Analizar las conclusiones.\n",
    "-Si un fertilizante es mejor que otro, ¿cómo podemos saberlo?"
   ]
  },
  {
   "cell_type": "code",
   "execution_count": 42,
   "id": "eecad0ca",
   "metadata": {},
   "outputs": [
    {
     "name": "stdout",
     "output_type": "stream",
     "text": [
      "t-value: 20.316\n",
      "p-value: 0.000\n"
     ]
    }
   ],
   "source": [
    "# TODO\n",
    "\n",
    "#H0 = No hay diferencia significativa en el rendimiento promedio del maíz entre los tres fertilizantes.\n",
    "#H1 = Al menos un fertilizante tiene un rendimiento significativamente diferente.\n",
    "\n",
    "fert_1 = [20, 21, 20, 19, 20]\n",
    "fert_2 = [22, 21, 23, 22, 21]\n",
    "fert_3 = [24, 23, 22, 23, 24]\n",
    "\n",
    "f_stat, p_value = stats.f_oneway(fert_1, fert_2, fert_3)\n",
    "\n",
    "\n",
    "print(f\"t-value: {f_stat:.3f}\")\n",
    "print(f\"p-value: {p_value:.3f}\")"
   ]
  },
  {
   "cell_type": "markdown",
   "id": "9f415b5f",
   "metadata": {},
   "source": [
    "Los resultados obtenidos son:\n",
    "\n",
    "Estadístico F = 20.32\n",
    "\n",
    "p-valor = 0.00014\n",
    "\n",
    "Usando un nivel de significancia común \n",
    "\n",
    "α=0.05:\n",
    "\n",
    "Dado que el p-valor (0.00014) es menor que 0.05, rechazamos la hipótesis nula.\n",
    "\n",
    "Esto indica que al menos un fertilizante tiene un rendimiento significativamente diferente a los demás."
   ]
  },
  {
   "cell_type": "code",
   "execution_count": 46,
   "id": "669ecdfb",
   "metadata": {},
   "outputs": [
    {
     "name": "stdout",
     "output_type": "stream",
     "text": [
      "       Multiple Comparison of Means - Tukey HSD, FWER=0.05        \n",
      "==================================================================\n",
      "    group1         group2     meandiff p-adj  lower  upper  reject\n",
      "------------------------------------------------------------------\n",
      "Fertilizante 1 Fertilizante 2      1.8 0.0099 0.4572 3.1428   True\n",
      "Fertilizante 1 Fertilizante 3      3.2 0.0001 1.8572 4.5428   True\n",
      "Fertilizante 2 Fertilizante 3      1.4 0.0409 0.0572 2.7428   True\n",
      "------------------------------------------------------------------\n"
     ]
    }
   ],
   "source": [
    "import numpy as np\n",
    "from statsmodels.stats.multicomp import pairwise_tukeyhsd\n",
    "\n",
    "# Organizar datos para la prueba de Tukey\n",
    "rendimiento = np.concatenate([fert_1, fert_2, fert_3])\n",
    "grupo = ([\"Fertilizante 1\"] * 5) + ([\"Fertilizante 2\"] * 5) + ([\"Fertilizante 3\"] * 5)\n",
    "\n",
    "# Prueba de Tukey\n",
    "tukey_result = pairwise_tukeyhsd(rendimiento, grupo, alpha=0.05)\n",
    "tukey_result\n",
    "\n",
    "# Mostrar los resultados de la prueba de Tukey\n",
    "print(tukey_result)"
   ]
  },
  {
   "cell_type": "markdown",
   "id": "6aca0301",
   "metadata": {},
   "source": [
    "Todos los fertilizantes presentan diferencias significativas entre sí.\n",
    "\n",
    "Fertilizante 3 tiene el mayor rendimiento promedio y es significativamente mejor que los otros dos.\n",
    "\n",
    "Fertilizante 1 tiene el menor rendimiento promedio.\n",
    "\n",
    "Fertilizante 2 es intermedio, pero aún significativamente mejor que el Fertilizante 1 y peor que el Fertilizante 3.\n",
    "\n",
    "\n",
    "🔹 El Fertilizante 3 es la mejor opción para maximizar la producción de maíz. 🌽"
   ]
  }
 ],
 "metadata": {
  "kernelspec": {
   "display_name": "Python 3",
   "language": "python",
   "name": "python3"
  },
  "language_info": {
   "codemirror_mode": {
    "name": "ipython",
    "version": 3
   },
   "file_extension": ".py",
   "mimetype": "text/x-python",
   "name": "python",
   "nbconvert_exporter": "python",
   "pygments_lexer": "ipython3",
   "version": "3.11.4"
  }
 },
 "nbformat": 4,
 "nbformat_minor": 5
}
