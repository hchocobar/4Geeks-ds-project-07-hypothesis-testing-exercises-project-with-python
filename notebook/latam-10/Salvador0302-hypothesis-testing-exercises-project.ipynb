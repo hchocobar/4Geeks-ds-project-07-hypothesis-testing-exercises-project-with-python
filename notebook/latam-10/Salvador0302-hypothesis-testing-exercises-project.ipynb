{
 "cells": [
  {
   "cell_type": "markdown",
   "id": "d9d036c6",
   "metadata": {},
   "source": [
    "# Problemas de prueba de hipótesis"
   ]
  },
  {
   "cell_type": "markdown",
   "id": "d157c4db",
   "metadata": {},
   "source": [
    "## Ejercicio 1\n",
    "\n",
    "Usted es un nutricionista que investiga dos tipos diferentes de dietas para ver si existe una diferencia significativa en la pérdida de peso después de un mes. Eliges dos grupos aleatorios de personas; un grupo sigue la primera dieta y el otro sigue la segunda. Al final del mes, se registra la pérdida de peso (en kg) de cada persona:\n",
    "\n",
    "| Diet 1 | Diet 2 |\n",
    "|:-------|:-------|\n",
    "| 2.0 | 3.0 |\n",
    "| 2.5 | 3.2 |\n",
    "| 3.0 | 3.1 |\n",
    "| 2.8 | 2.9 |\n",
    "| 2.3 | 2.8 |\n",
    "| 2.7 | 3.0 |\n",
    "| 2.5 | 3.2 |\n",
    "\n",
    "Con estos datos se busca responder a la siguiente pregunta: ¿Existe una diferencia significativa en la pérdida de peso promedio entre las personas que siguieron la primera dieta y las que siguieron la segunda dieta?\n",
    "\n",
    "Para sacar conclusiones, siga los siguientes puntos:\n",
    "\n",
    "-Enunciar la hipótesis: hipótesis nula y alternativa.\n",
    "-Realizar la prueba para comprobar la hipótesis. Puede utilizar la prueba t de Student.\n",
    "-Analizar las conclusiones."
   ]
  },
  {
   "cell_type": "code",
   "execution_count": 5,
   "id": "8e0f3cf0",
   "metadata": {},
   "outputs": [
    {
     "name": "stdout",
     "output_type": "stream",
     "text": [
      "H0: μ1 = μ2 (No existe una diferencia significativa en la pérdida de peso promedio entre el grupo 1 y el grupo 2)\n",
      "H1: μ1 =/ μ2 (Si existe una diferencia significativa en la pérdida de peso promedio entre el grupo 1 y el grupo 2)\n",
      "α = 0.05\n"
     ]
    }
   ],
   "source": [
    "# 1. Enunciamos las hipótesis: \n",
    "print(\"H0: μ1 = μ2 (No existe una diferencia significativa en la pérdida de peso promedio entre el grupo 1 y el grupo 2)\")\n",
    "print(\"H1: μ1 =/ μ2 (Si existe una diferencia significativa en la pérdida de peso promedio entre el grupo 1 y el grupo 2)\")\n",
    "\n",
    "# 2. Definimos el nivel de significación:\n",
    "print(\"α = 0.05\")"
   ]
  },
  {
   "cell_type": "code",
   "execution_count": 29,
   "id": "fa5058ba",
   "metadata": {},
   "outputs": [
    {
     "name": "stdout",
     "output_type": "stream",
     "text": [
      "Estadístico t: -3.5383\n",
      "Valor p: 0.0041\n",
      "Conclusión: Rechazamos H0, hay diferencia significativa entre las dietas.\n"
     ]
    }
   ],
   "source": [
    "import numpy as np\n",
    "import scipy.stats as stats\n",
    "\n",
    "muestra1 = np.array([2.0, 2.5, 3.0, 2.8, 2.3, 2.7, 2.5])\n",
    "muestra2 = np.array([3.0, 3.2, 3.1, 2.9, 2.8, 3.0, 3.2])\n",
    "\n",
    "media1 = muestra1.mean()\n",
    "media2 = muestra2.mean()\n",
    "\n",
    "estadistico_t, valor_p = stats.ttest_ind(muestra1, muestra2)\n",
    "\n",
    "print(f\"Estadístico t: {estadistico_t:.4f}\")\n",
    "print(f\"Valor p: {valor_p:.4f}\")\n",
    "\n",
    "α = 0.05\n",
    "if valor_p < α:\n",
    "    print(\"Conclusión: Rechazamos H0, hay diferencia significativa entre las dietas.\")\n",
    "else:\n",
    "    print(\"Conclusión: No se puede rechazar H0, no hay evidencia suficiente de diferencia.\")"
   ]
  },
  {
   "cell_type": "markdown",
   "id": "f432e18e",
   "metadata": {},
   "source": [
    "## ANOVA\n",
    "\n",
    "**ANOVA** (*Analysis of Variance - Análisis de variación*) Es una técnica estadística utilizada para comparar las medidas de dos o más grupos. La idea detrás de ANOVA es descomponer la variabilidad total de los datos en dos componentes: variabilidad entre grupos y variabilidad dentro de los grupos:\n",
    "\n",
    "- **Variabilidad entre grupos**: Esta variabilidad se refiere a las diferencias entre las medias del grupo. Si esta variabilidad es considerablemente mayor que la variabilidad dentro del grupo, podría ser una indicación de que al menos una de las medias del grupo es diferente.\n",
    "- **Variabilidad dentro del grupo**: Esta variabilidad se refiere a la dispersión de los datos dentro de cada grupo. Si todos los grupos tienen una variabilidad similar, entonces cualquier diferencia notable en las medias de los grupos podría considerarse significativa.\n",
    "\n",
    "Las hipótesis en ANOVA suelen incluir:\n",
    "\n",
    "- **Hipótesis nula** ($H₀$): Las medias de todos los grupos son iguales.\n",
    "- **Hipótesis alternativa** ($H₁$): Al menos una de las medias del grupo es diferente.\n",
    "\n",
    "Si el resultado de la prueba ANOVA es significativo (por ejemplo, un valor p inferior a un umbral como 0,05), esto sugiere que al menos la media de un grupo es diferente."
   ]
  },
  {
   "cell_type": "markdown",
   "id": "fc5f3721",
   "metadata": {},
   "source": [
    "## Ejercicio 2\n",
    "\n",
    "Un agricultor decide probar tres tipos diferentes de fertilizantes para determinar si alguno es superior en términos de producción de maíz. El agricultor planta maíz en 15 parcelas idénticas y utiliza los tres fertilizantes (5 parcelas para cada tipo). Al final de la temporada mide el rendimiento de maíz (en kg) de cada parcela, con el siguiente resultado:\n",
    "\n",
    "| Fertilizante 1 | Fertilizante 2 | Fertilizante 3 |\n",
    "|:-------------|:-------------|:-------------|\n",
    "| 20 | 22 | 24 |\n",
    "| 21 | 21 | 23 |\n",
    "| 20 | 23 | 22 |\n",
    "| 19 | 22 | 23 |\n",
    "| 20 | 21 | 24 |\n",
    "\n",
    "Con estos datos busca responder la siguiente pregunta: ¿Existe una diferencia significativa en el rendimiento promedio del maíz entre los tres tipos de fertilizantes?\n",
    "\n",
    "Para ayudarte, sigue los siguientes puntos:\n",
    "\n",
    "-Enunciar la hipótesis: hipótesis nula y alternativa.\n",
    "-Realizar la prueba ANOVA.\n",
    "-Analizar las conclusiones.\n",
    "-Si un fertilizante es mejor que otro, ¿cómo podemos saberlo?"
   ]
  },
  {
   "cell_type": "code",
   "execution_count": 31,
   "id": "eecad0ca",
   "metadata": {},
   "outputs": [
    {
     "name": "stdout",
     "output_type": "stream",
     "text": [
      "H0: Las medias de todos los grupos son iguales. (μ1 = μ2 = μ3)\n",
      "H1: Al menos una de las medias del grupo es diferente.\n",
      "α = 0.05\n"
     ]
    }
   ],
   "source": [
    "# 1. Enunciamos las hipótesis: \n",
    "print(\"H0: Las medias de todos los grupos son iguales. (μ1 = μ2 = μ3)\")\n",
    "print(\"H1: Al menos una de las medias del grupo es diferente.\")\n",
    "\n",
    "# 2. Definimos el nivel de significación:\n",
    "print(\"α = 0.05\")"
   ]
  },
  {
   "cell_type": "code",
   "execution_count": 39,
   "id": "a8246e49",
   "metadata": {},
   "outputs": [
    {
     "name": "stdout",
     "output_type": "stream",
     "text": [
      "Estadístico t: 20.3158\n",
      "Valor p: 0.0001\n",
      "Conclusión: Rechazamos H0, hay diferencia significativa entre las dietas.\n"
     ]
    }
   ],
   "source": [
    "muestra1 = np.array([20, 21, 20, 19, 20])\n",
    "muestra2 = np.array([22, 21, 23, 22, 21])\n",
    "muestra3 = np.array([24, 23, 22, 23, 24])\n",
    "\n",
    "estadistico_t, valor_p = stats.f_oneway(muestra1, muestra2, muestra3)\n",
    "\n",
    "print(f\"Estadístico t: {estadistico_t:.4f}\")\n",
    "print(f\"Valor p: {valor_p:.4f}\")\n",
    "\n",
    "α = 0.05\n",
    "if valor_p < α:\n",
    "    print(\"Conclusión: Rechazamos H0, hay diferencia significativa entre las dietas.\")\n",
    "else:\n",
    "    print(\"Conclusión: No se puede rechazar H0, no hay evidencia suficiente de diferencia.\")"
   ]
  },
  {
   "cell_type": "code",
   "execution_count": 44,
   "id": "592485aa",
   "metadata": {},
   "outputs": [
    {
     "name": "stdout",
     "output_type": "stream",
     "text": [
      "       Multiple Comparison of Means - Tukey HSD, FWER=0.05        \n",
      "==================================================================\n",
      "    group1         group2     meandiff p-adj  lower  upper  reject\n",
      "------------------------------------------------------------------\n",
      "Fertilizante 1 Fertilizante 2      1.8 0.0099 0.4572 3.1428   True\n",
      "Fertilizante 1 Fertilizante 3      3.2 0.0001 1.8572 4.5428   True\n",
      "Fertilizante 2 Fertilizante 3      1.4 0.0409 0.0572 2.7428   True\n",
      "------------------------------------------------------------------\n"
     ]
    }
   ],
   "source": [
    "from statsmodels.stats.multicomp import pairwise_tukeyhsd\n",
    "\n",
    "datos = np.concatenate([muestra1, muestra2, muestra3])\n",
    "grupos = ['Fertilizante 1'] * len(muestra1) + ['Fertilizante 2'] * len(muestra2) + ['Fertilizante 3'] * len(muestra3)\n",
    "\n",
    "tukey = pairwise_tukeyhsd(datos, grupos, 0.05)\n",
    "print(tukey)\n"
   ]
  },
  {
   "cell_type": "code",
   "execution_count": 46,
   "id": "ee8e8c05",
   "metadata": {},
   "outputs": [
    {
     "name": "stdout",
     "output_type": "stream",
     "text": [
      "Se concluye que el Fertilizante 3 es claramente superior.\n"
     ]
    }
   ],
   "source": [
    "print(\"Se concluye que el Fertilizante 3 es claramente superior.\")"
   ]
  }
 ],
 "metadata": {
  "kernelspec": {
   "display_name": "Python 3",
   "language": "python",
   "name": "python3"
  },
  "language_info": {
   "codemirror_mode": {
    "name": "ipython",
    "version": 3
   },
   "file_extension": ".py",
   "mimetype": "text/x-python",
   "name": "python",
   "nbconvert_exporter": "python",
   "pygments_lexer": "ipython3",
   "version": "3.11.4"
  }
 },
 "nbformat": 4,
 "nbformat_minor": 5
}
